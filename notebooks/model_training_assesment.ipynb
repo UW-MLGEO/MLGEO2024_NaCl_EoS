{
 "cells": [
  {
   "cell_type": "code",
   "execution_count": 1,
   "metadata": {},
   "outputs": [
    {
     "name": "stdout",
     "output_type": "stream",
     "text": [
      "Requirement already satisfied: seafreeze in /opt/anaconda3/envs/eos_env/lib/python3.9/site-packages (1.0.0)\n",
      "Requirement already satisfied: scipy>=1.12 in /opt/anaconda3/envs/eos_env/lib/python3.9/site-packages (from seafreeze) (1.13.1)\n",
      "Requirement already satisfied: numpy>=1.26.3 in /opt/anaconda3/envs/eos_env/lib/python3.9/site-packages (from seafreeze) (1.26.4)\n",
      "Requirement already satisfied: h5py>=3.10 in /opt/anaconda3/envs/eos_env/lib/python3.9/site-packages (from seafreeze) (3.12.1)\n",
      "Requirement already satisfied: psutil>=5.9.8 in /opt/anaconda3/envs/eos_env/lib/python3.9/site-packages (from seafreeze) (6.1.0)\n",
      "Requirement already satisfied: hdf5storage>=0.1.19 in /opt/anaconda3/envs/eos_env/lib/python3.9/site-packages (from seafreeze) (0.1.19)\n",
      "Note: you may need to restart the kernel to use updated packages.\n",
      "Requirement already satisfied: parquet in /opt/anaconda3/envs/eos_env/lib/python3.9/site-packages (1.3.1)\n",
      "Requirement already satisfied: thriftpy2 in /opt/anaconda3/envs/eos_env/lib/python3.9/site-packages (from parquet) (0.5.2)\n",
      "Requirement already satisfied: six~=1.15 in /opt/anaconda3/envs/eos_env/lib/python3.9/site-packages (from thriftpy2->parquet) (1.16.0)\n",
      "Requirement already satisfied: ply<4.0,>=3.4 in /opt/anaconda3/envs/eos_env/lib/python3.9/site-packages (from thriftpy2->parquet) (3.11)\n",
      "Requirement already satisfied: Cython>=3.0.10 in /opt/anaconda3/envs/eos_env/lib/python3.9/site-packages (from thriftpy2->parquet) (3.0.11)\n",
      "Note: you may need to restart the kernel to use updated packages.\n",
      "Requirement already satisfied: pyarrow in /opt/anaconda3/envs/eos_env/lib/python3.9/site-packages (18.0.0)\n",
      "Note: you may need to restart the kernel to use updated packages.\n",
      "Requirement already satisfied: pandas in /opt/anaconda3/envs/eos_env/lib/python3.9/site-packages (2.2.3)\n",
      "Requirement already satisfied: pytz>=2020.1 in /opt/anaconda3/envs/eos_env/lib/python3.9/site-packages (from pandas) (2024.1)\n",
      "Requirement already satisfied: numpy>=1.22.4 in /opt/anaconda3/envs/eos_env/lib/python3.9/site-packages (from pandas) (1.26.4)\n",
      "Requirement already satisfied: tzdata>=2022.7 in /opt/anaconda3/envs/eos_env/lib/python3.9/site-packages (from pandas) (2024.2)\n",
      "Requirement already satisfied: python-dateutil>=2.8.2 in /opt/anaconda3/envs/eos_env/lib/python3.9/site-packages (from pandas) (2.9.0)\n",
      "Requirement already satisfied: six>=1.5 in /opt/anaconda3/envs/eos_env/lib/python3.9/site-packages (from python-dateutil>=2.8.2->pandas) (1.16.0)\n",
      "Note: you may need to restart the kernel to use updated packages.\n"
     ]
    }
   ],
   "source": [
    "%pip install seafreeze\n",
    "%pip install parquet\n",
    "%pip install pyarrow\n",
    "%pip install pandas\n",
    "import pandas as pd\n",
    "import numpy as np\n",
    "from sklearn.tree import DecisionTreeRegressor\n",
    "from sklearn.ensemble import BaggingRegressor, ExtraTreesRegressor, RandomForestRegressor\n",
    "from sklearn.metrics import mean_squared_error, r2_score\n",
    "from sklearn.model_selection import train_test_split\n",
    "from sklearn.preprocessing import StandardScaler\n",
    "import matplotlib.pyplot as plt\n",
    "import os"
   ]
  },
  {
   "cell_type": "markdown",
   "metadata": {},
   "source": [
    "Load data from parquet files"
   ]
  },
  {
   "cell_type": "code",
   "execution_count": 13,
   "metadata": {},
   "outputs": [
    {
     "name": "stdout",
     "output_type": "stream",
     "text": [
      "Full DataFrame shape: (939401, 10)\n",
      "   P_Mpa    T_K  m_molkg             G           S              U  \\\n",
      "0    0.1  240.0      0.0  -8926.550362 -582.447446 -148816.097810   \n",
      "1   10.1  240.0      0.0   1243.813309 -565.772512 -144768.598346   \n",
      "2   20.1  240.0      0.0  11326.998932 -552.246594 -141395.802828   \n",
      "3   30.1  240.0      0.0  21328.899131 -541.372011 -138589.316172   \n",
      "4   40.1  240.0      0.0  31254.927198 -532.721316 -136256.214314   \n",
      "\n",
      "               H            A          rho           Cp  \n",
      "0 -148713.937389 -9028.710783   978.852659  5300.978960  \n",
      "1 -134541.589582 -8983.195455   987.581045  4987.894841  \n",
      "2 -121212.183512 -8856.620385   995.857070  4744.177162  \n",
      "3 -108600.383619 -8660.033422  1003.703615  4552.559071  \n",
      "4  -96598.188562 -8403.098554  1011.144636  4399.396981  \n"
     ]
    }
   ],
   "source": [
    "# define list of property names \n",
    "props = ('G', 'S', 'U', 'H', 'A', 'rho', 'Cp') #, 'Kt', 'Kp', 'Ks', 'alpha', 'vel', 'mus', 'muw', 'Vm', 'Cpm', 'Cpa', 'Va', 'Vex', 'phi', 'aw', 'gam', 'Gex')\n",
    "\n",
    "# Define directory for G data  \n",
    "dirG = os.path.join('/Users/ulajones/Documents/School/ESS/ESS569F24/data/ai_ready/', 'G')\n",
    "os.makedirs(dirG, exist_ok=True)\n",
    "dfG = pq.read_table(os.path.join(dirG, 'NaCl_G.parquet')).to_pandas()\n",
    "\n",
    "# Initialize data_j with headers\n",
    "data_j = pd.DataFrame(columns=['P_Mpa', 'T_K', 'm_molkg'] + list(props))\n",
    "\n",
    "# Add G data to data_j\n",
    "data_j['P_Mpa'] = dfG['P_Mpa']\n",
    "data_j['T_K'] = dfG['T_K']\n",
    "data_j['m_molkg'] = dfG['m_molkg']\n",
    "\n",
    "for j in props: \n",
    "    dir_ready = os.path.join('/Users/ulajones/Documents/School/ESS/ESS569F24/data/ai_ready/', j)\n",
    "    os.makedirs(dir_ready, exist_ok=True)\n",
    "    df = pq.read_table(os.path.join(dir_ready, f'NaCl_{j}.parquet')).to_pandas()\n",
    "    \n",
    "    # Filter data for pressures below 2 GPa (2000 MPa)\n",
    "    df = df[df['P_Mpa'] < 2000]\n",
    "    \n",
    "    # Add property data to data_j\n",
    "    data_j[f'{j}'] = df[f'{j}']\n",
    "\n",
    "# Display the shape, first few rows of the structure to verify\n",
    "print(\"Full DataFrame shape:\", data_j.shape)\n",
    "print(data_j.head())"
   ]
  },
  {
   "cell_type": "markdown",
   "metadata": {},
   "source": [
    "generate test and training data by splitting data into odd and even indices to preserve behavior across full PTM range"
   ]
  },
  {
   "cell_type": "code",
   "execution_count": 15,
   "metadata": {},
   "outputs": [
    {
     "name": "stdout",
     "output_type": "stream",
     "text": [
      "Odd indices data:\n",
      "   P_Mpa    T_K  m_molkg             G           S              U  \\\n",
      "0   10.1  240.0      0.0   1243.813309 -565.772512 -144768.598346   \n",
      "1   30.1  240.0      0.0  21328.899131 -541.372011 -138589.316172   \n",
      "2   50.1  240.0      0.0  41110.044021 -525.931116 -134317.671575   \n",
      "3   70.1  240.0      0.0  60625.287112 -516.761941 -131371.216828   \n",
      "4   90.1  240.0      0.0  79906.291074 -512.004183 -129349.153917   \n",
      "\n",
      "               H            A          rho           Cp  \n",
      "0 -134541.589582 -8983.195455   987.581045  4987.894841  \n",
      "1 -108600.383619 -8660.033422  1003.703615  4552.559071  \n",
      "2  -85113.423910 -8094.203644  1018.204777  4274.251148  \n",
      "3  -63397.578736 -7348.350980  1031.282155  4079.752018  \n",
      "4  -42974.712833 -6468.150009  1043.132654  3933.682864  \n",
      "\n",
      "Even indices data:\n",
      "   P_Mpa    T_K  m_molkg             G           S              U  \\\n",
      "0    0.1  240.0      0.0  -8926.550362 -582.447446 -148816.097810   \n",
      "1   20.1  240.0      0.0  11326.998932 -552.246594 -141395.802828   \n",
      "2   40.1  240.0      0.0  31254.927198 -532.721316 -136256.214314   \n",
      "3   60.1  240.0      0.0  50898.785027 -520.695916 -132707.588022   \n",
      "4   80.1  240.0      0.0  70293.315580 -513.920973 -130263.791635   \n",
      "\n",
      "               H            A          rho           Cp  \n",
      "0 -148713.937389 -9028.710783   978.852659  5300.978960  \n",
      "1 -121212.183512 -8856.620385   995.857070  4744.177162  \n",
      "2  -96598.188562 -8403.098554  1011.144636  4399.396981  \n",
      "3  -74068.234822 -7740.568173  1024.908986  4169.466259  \n",
      "4  -53047.718055 -6922.758000  1037.348784  4001.763725  \n"
     ]
    }
   ],
   "source": [
    "# subset data by odd and even indicies \n",
    "data_odd = data_j.iloc[1::2].reset_index(drop=True)\n",
    "data_even = data_j.iloc[0::2].reset_index(drop=True)\n",
    "\n",
    "# display the first few rows of each subset to verify\n",
    "print(\"Odd indices data:\")\n",
    "print(data_odd.head())\n",
    "\n",
    "print(\"\\nEven indices data:\")\n",
    "print(data_even.head())"
   ]
  },
  {
   "cell_type": "markdown",
   "metadata": {},
   "source": [
    "## 1. Cross-validation and train-val-test splitting practices "
   ]
  },
  {
   "cell_type": "markdown",
   "metadata": {},
   "source": [
    "The following cell performs cross validation on the decision tree regressor model nd training sets defined previously; all scores are low, on the order of 10e-5."
   ]
  },
  {
   "cell_type": "code",
   "execution_count": 33,
   "metadata": {},
   "outputs": [
    {
     "name": "stdout",
     "output_type": "stream",
     "text": [
      "Cross-validation scores (negative mean squared error): [-7.30149770e-05 -8.11550472e-05 -8.29306499e-05 -7.59627439e-05\n",
      " -7.60542415e-05]\n",
      "Mean cross-validation score: -7.7823531886046e-05\n",
      "Validation score: 0.9998757708293919\n",
      "Mean Squared Error on test data: 0.00011305027869074278\n"
     ]
    }
   ],
   "source": [
    "# Define features (X) and target (y) for training and test sets\n",
    "X_train = data_odd[['P_Mpa', 'T_K', 'm_molkg']]\n",
    "y_train = data_odd['Cp']\n",
    "X_test = data_even[['P_Mpa', 'T_K', 'm_molkg']]\n",
    "y_test = data_even['Cp']\n",
    "\n",
    "# Combine odd and even data for cross-validation\n",
    "X = pd.concat([X_train, X_test]).reset_index(drop=True)\n",
    "y = pd.concat([y_train, y_test]).reset_index(drop=True)\n",
    "\n",
    "# Normalize the Cp data\n",
    "scaler = StandardScaler()\n",
    "y = scaler.fit_transform(y.values.reshape(-1, 1)).flatten()\n",
    "\n",
    "# Initialize the Decision Tree Regressor\n",
    "model = DecisionTreeRegressor(random_state=42)\n",
    "\n",
    "# Create and perform cross-validation split with 5 folds\n",
    "kf = KFold(n_splits=5, shuffle=True, random_state=42)\n",
    "cv_scores = cross_val_score(model, X, y, cv=kf, scoring='neg_mean_squared_error')\n",
    "\n",
    "# Print the cross-validation scores\n",
    "print(\"Cross-validation scores (negative mean squared error):\", cv_scores)\n",
    "print(\"Mean cross-validation score:\", np.mean(cv_scores))\n",
    "\n",
    "# Split the data into train, validation, and test sets\n",
    "X_train, X_temp, y_train, y_temp = train_test_split(X, y, test_size=0.4, random_state=42)\n",
    "X_val, X_test, y_val, y_test = train_test_split(X_temp, y_temp, test_size=0.5, random_state=42)\n",
    "\n",
    "# Train the model on the training set\n",
    "model.fit(X_train, y_train)\n",
    "\n",
    "# Evaluate the model on the validation set\n",
    "val_score = model.score(X_val, y_val)\n",
    "print(\"Validation score:\", val_score)\n",
    "\n",
    "# Predict using the test data\n",
    "y_pred = model.predict(X_test)\n",
    "\n",
    "# Evaluate the model on the test set\n",
    "mse = mean_squared_error(y_test, y_pred)\n",
    "print(\"Mean Squared Error on test data:\", mse)"
   ]
  },
  {
   "cell_type": "markdown",
   "metadata": {},
   "source": [
    "## 2. Performance generality by testing on diverse subsets of the data"
   ]
  },
  {
   "cell_type": "markdown",
   "metadata": {},
   "source": [
    "This cell tests for performance generality by subsetting data by all possible combinations of low and high P, T, and M. Behavior should be really different across each of these subsets, so testing performance on all of them is a good way to verify the models are working (this is why I wanted to use training data from across the whole range of PTM values: to capture all relevant behavior)\n",
    "\n",
    "Encouragingly, validate scores are high and MSEs low across the board. There don't appear to be any specific trends or patterns in the performance. \n"
   ]
  },
  {
   "cell_type": "code",
   "execution_count": 35,
   "metadata": {},
   "outputs": [
    {
     "name": "stdout",
     "output_type": "stream",
     "text": [
      "Evaluating combination: P=low, T=low, M=low\n",
      "Cross-validation scores (negative mean squared error): [-0.00026886 -0.00032803 -0.00041656 -0.00038315 -0.00030258]\n",
      "Mean cross-validation score: -0.00033983524876600804\n",
      "Validation score: 0.9988765968687897\n",
      "Mean Squared Error on test data: 0.0004232938714182484\n",
      "\n",
      "Evaluating combination: P=low, T=low, M=high\n",
      "Cross-validation scores (negative mean squared error): [-6.66839251e-05 -6.64384213e-05 -6.74296682e-05 -6.50820477e-05\n",
      " -6.63231851e-05]\n",
      "Mean cross-validation score: -6.63914494819638e-05\n",
      "Validation score: 0.999304080764642\n",
      "Mean Squared Error on test data: 0.00010025456871518907\n",
      "\n",
      "Evaluating combination: P=low, T=high, M=low\n",
      "Cross-validation scores (negative mean squared error): [-7.76472523e-05 -7.34622419e-05 -7.22136900e-05 -7.30923291e-05\n",
      " -7.48276544e-05]\n",
      "Mean cross-validation score: -7.424863355685373e-05\n",
      "Validation score: 0.9997847982540465\n",
      "Mean Squared Error on test data: 0.00014186532883137676\n",
      "\n",
      "Evaluating combination: P=low, T=high, M=high\n",
      "Cross-validation scores (negative mean squared error): [-6.59387016e-05 -6.63156310e-05 -6.40031228e-05 -6.44759178e-05\n",
      " -6.31253860e-05]\n",
      "Mean cross-validation score: -6.477175183099989e-05\n",
      "Validation score: 0.9995362860692659\n",
      "Mean Squared Error on test data: 9.956387578996348e-05\n",
      "\n",
      "Evaluating combination: P=high, T=low, M=low\n",
      "Cross-validation scores (negative mean squared error): [-7.02015541e-06 -7.16831065e-06 -7.34497638e-06 -6.91465753e-06\n",
      " -7.23406426e-06]\n",
      "Mean cross-validation score: -7.1364328453157404e-06\n",
      "Validation score: 0.9999492569333903\n",
      "Mean Squared Error on test data: 1.2640481394797935e-05\n",
      "\n",
      "Evaluating combination: P=high, T=low, M=high\n",
      "Cross-validation scores (negative mean squared error): [-2.07630919e-05 -2.16058296e-05 -2.14280367e-05 -2.11958931e-05\n",
      " -2.10757718e-05]\n",
      "Mean cross-validation score: -2.1213724611364775e-05\n",
      "Validation score: 0.9998541145105453\n",
      "Mean Squared Error on test data: 3.488186349988403e-05\n",
      "\n",
      "Evaluating combination: P=high, T=high, M=low\n",
      "Cross-validation scores (negative mean squared error): [-1.31018994e-05 -1.29210618e-05 -1.30576750e-05 -1.32511884e-05\n",
      " -1.31344738e-05]\n",
      "Mean cross-validation score: -1.3093259697792017e-05\n",
      "Validation score: 0.9999338558269782\n",
      "Mean Squared Error on test data: 1.96435895958908e-05\n",
      "\n",
      "Evaluating combination: P=high, T=high, M=high\n",
      "Cross-validation scores (negative mean squared error): [-2.01493910e-05 -1.97679424e-05 -2.02376123e-05 -1.98924864e-05\n",
      " -1.94225496e-05]\n",
      "Mean cross-validation score: -1.989399633920989e-05\n",
      "Validation score: 0.9998083045736503\n",
      "Mean Squared Error on test data: 2.9728044992250933e-05\n",
      "\n"
     ]
    }
   ],
   "source": [
    "\n",
    "# Define features (X) and target (y) for training and test sets\n",
    "X_train = data_odd[['P_Mpa', 'T_K', 'm_molkg']]\n",
    "y_train = data_odd['Cp']\n",
    "X_test = data_even[['P_Mpa', 'T_K', 'm_molkg']]\n",
    "y_test = data_even['Cp']\n",
    "\n",
    "# Combine odd and even data for cross-validation\n",
    "X = pd.concat([X_train, X_test]).reset_index(drop=True)\n",
    "y = pd.concat([y_train, y_test]).reset_index(drop=True)\n",
    "\n",
    "# Normalize the Cp data\n",
    "scaler = StandardScaler()\n",
    "y = scaler.fit_transform(y.values.reshape(-1, 1)).flatten()\n",
    "\n",
    "# Initialize the Decision Tree Regressor\n",
    "model = DecisionTreeRegressor(random_state=42)\n",
    "\n",
    "# Define thresholds for low vs high values\n",
    "P_threshold = X['P_Mpa'].median()\n",
    "T_threshold = X['T_K'].median()\n",
    "M_threshold = X['m_molkg'].median()\n",
    "\n",
    "# Define all possible combinations of low and high values\n",
    "combinations = [\n",
    "    ('low', 'low', 'low'),\n",
    "    ('low', 'low', 'high'),\n",
    "    ('low', 'high', 'low'),\n",
    "    ('low', 'high', 'high'),\n",
    "    ('high', 'low', 'low'),\n",
    "    ('high', 'low', 'high'),\n",
    "    ('high', 'high', 'low'),\n",
    "    ('high', 'high', 'high')\n",
    "]\n",
    "\n",
    "# Function to subset data based on combination of low and high values\n",
    "def subset_data(X, y, P_cond, T_cond, M_cond):\n",
    "    if P_cond == 'low':\n",
    "        P_mask = X['P_Mpa'] <= P_threshold\n",
    "    else:\n",
    "        P_mask = X['P_Mpa'] > P_threshold\n",
    "    \n",
    "    if T_cond == 'low':\n",
    "        T_mask = X['T_K'] <= T_threshold\n",
    "    else:\n",
    "        T_mask = X['T_K'] > T_threshold\n",
    "    \n",
    "    if M_cond == 'low':\n",
    "        M_mask = X['m_molkg'] <= M_threshold\n",
    "    else:\n",
    "        M_mask = X['m_molkg'] > M_threshold\n",
    "    \n",
    "    mask = P_mask & T_mask & M_mask\n",
    "    return X[mask], y[mask]\n",
    "\n",
    "# Loop through each combination and evaluate the model\n",
    "for P_cond, T_cond, M_cond in combinations:\n",
    "    print(f\"Evaluating combination: P={P_cond}, T={T_cond}, M={M_cond}\")\n",
    "    \n",
    "    # Subset the data\n",
    "    X_subset, y_subset = subset_data(X, y, P_cond, T_cond, M_cond)\n",
    "    \n",
    "    # Perform cross-validation\n",
    "    kf = KFold(n_splits=5, shuffle=True, random_state=42)\n",
    "    cv_scores = cross_val_score(model, X_subset, y_subset, cv=kf, scoring='neg_mean_squared_error')\n",
    "    print(f\"Cross-validation scores (negative mean squared error): {cv_scores}\")\n",
    "    print(f\"Mean cross-validation score: {np.mean(cv_scores)}\")\n",
    "    \n",
    "    # Split the data into train, validation, and test sets\n",
    "    X_train_subset, X_temp_subset, y_train_subset, y_temp_subset = train_test_split(X_subset, y_subset, test_size=0.4, random_state=42)\n",
    "    X_val_subset, X_test_subset, y_val_subset, y_test_subset = train_test_split(X_temp_subset, y_temp_subset, test_size=0.5, random_state=42)\n",
    "    \n",
    "    # Train the model on the training set\n",
    "    model.fit(X_train_subset, y_train_subset)\n",
    "    \n",
    "    # Evaluate the model on the validation set\n",
    "    val_score = model.score(X_val_subset, y_val_subset)\n",
    "    print(f\"Validation score: {val_score}\")\n",
    "    \n",
    "    # Predict using the test data\n",
    "    y_pred = model.predict(X_test_subset)\n",
    "    \n",
    "    # Evaluate the model on the test set\n",
    "    mse = mean_squared_error(y_test_subset, y_pred)\n",
    "    print(f\"Mean Squared Error on test data: {mse}\")\n",
    "    print()"
   ]
  },
  {
   "cell_type": "markdown",
   "metadata": {},
   "source": [
    "## 3. Bootstrapping and bagging techniques across different model architectures and data variations (& visualize model performance)\n"
   ]
  },
  {
   "cell_type": "markdown",
   "metadata": {},
   "source": [
    "First, I will try using a decision tree regressor (the preferred model for Cp) with bagging on the original specific heat data. This results in an MSE of 1.145, which is relatively low but indicates performance would be improved through normalization."
   ]
  },
  {
   "cell_type": "code",
   "execution_count": 31,
   "metadata": {},
   "outputs": [
    {
     "name": "stdout",
     "output_type": "stream",
     "text": [
      "Mean Squared Error on test data: 1.1448469425093541\n"
     ]
    }
   ],
   "source": [
    "data = pd.concat([data_odd, data_even]).reset_index(drop=True)\n",
    "\n",
    "# Define features (X) and target (y)\n",
    "X = data[['P_Mpa', 'T_K', 'm_molkg']]\n",
    "y = data['Cp']\n",
    "\n",
    "# Split the data into training and testing sets; \n",
    "X_train, X_test, y_train, y_test = train_test_split(X, y, test_size=0.2, random_state=42) # take 20% of the data for testing\n",
    "\n",
    "# Initialize DecisionTreeRegressor, BaggingRegressor with bootstrapping, train model\n",
    "base_estimator = DecisionTreeRegressor()\n",
    "bagging_regressor = BaggingRegressor(estimator=base_estimator, n_estimators=100, random_state=42)\n",
    "bagging_regressor.fit(X_train, y_train)\n",
    "\n",
    "# Predict using the test data\n",
    "y_pred = bagging_regressor.predict(X_test)\n",
    "\n",
    "# Evaluate the model\n",
    "mse = mean_squared_error(y_test, y_pred)\n",
    "print(\"Mean Squared Error on test data:\", mse)"
   ]
  },
  {
   "cell_type": "markdown",
   "metadata": {},
   "source": [
    "The next cell demonstrates the use of bootstrapping and bagging techniques on the normalized Cp data and visualizes the performance (specifically with learning curves, accuracy, and loss) for each training round. It uses sklearn's bagging regressor to examine 3 model architectures that were found to be effective for generating regression models for most variables in the auto_ml notebook.\n",
    "\n",
    "It then evaluates and collects performance metrics (MSE, R2) alongside training times to determine which model provides the best balance between speed and accuracy. Sklearn's bagging regressor is an ensemble learning method that takes random subsets of the test and training data and trains a given model architecture on it (the \"base estimator\" model). \n",
    " "
   ]
  },
  {
   "cell_type": "code",
   "execution_count": 44,
   "metadata": {},
   "outputs": [
    {
     "data": {
      "image/png": "[encoded data removed]",
      "text/plain": [
       "<Figure size 1000x600 with 1 Axes>"
      ]
     },
     "metadata": {},
     "output_type": "display_data"
    },
    {
     "data": {
      "image/png": "[encoded data removed]",
      "text/plain": [
       "<Figure size 1000x600 with 1 Axes>"
      ]
     },
     "metadata": {},
     "output_type": "display_data"
    },
    {
     "data": {
      "image/png": "[encoded data removed]",
      "text/plain": [
       "<Figure size 1000x600 with 1 Axes>"
      ]
     },
     "metadata": {},
     "output_type": "display_data"
    }
   ],
   "source": [
    "# Define features (X)\n",
    "X = data_j[['P_Mpa', 'T_K', 'm_molkg']]\n",
    "\n",
    "# List of target features \n",
    "target_features = ['Cp']\n",
    "\n",
    "# Directory to save figures\n",
    "figures_dir = 'figures'\n",
    "os.makedirs(figures_dir, exist_ok=True)\n",
    "\n",
    "# Loop through each target feature\n",
    "for target in target_features:\n",
    "    # Normalize the target variable (MSE looks awful without this)\n",
    "    y = data_j[target].to_numpy().reshape(-1, 1) \n",
    "    scaler = StandardScaler().fit(y)\n",
    "    y = scaler.transform(y).flatten()\n",
    "\n",
    "    # Define different model architectures\n",
    "    models = {\n",
    "        'ExtraTrees': ExtraTreesRegressor(random_state=42),\n",
    "        'RandomForest': RandomForestRegressor(random_state=42),\n",
    "        'DecisionTree': DecisionTreeRegressor(random_state=42)\n",
    "    }\n",
    "\n",
    "    # Initialize and train BaggingRegressor for each model\n",
    "    bagging_models = {}\n",
    "    for name, model in models.items():\n",
    "        start_time = time.time()\n",
    "        bagging_model = BaggingRegressor(n_estimators=10, random_state=42)\n",
    "        bagging_model.fit(X, y)\n",
    "        end_time = time.time()\n",
    "        bagging_models[name] = bagging_model\n",
    "\n",
    "    # Function to plot and save figures\n",
    "    def plot_and_save_model_performance(model, X_test, y_test, model_name):\n",
    "        plt.figure(figsize=(10, 6))\n",
    "        mse_list = []\n",
    "        r2_list = []\n",
    "        for i, estimator in enumerate(model.estimators_):\n",
    "            y_pred = estimator.predict(X_test)\n",
    "            mse = mean_squared_error(y_test, y_pred)\n",
    "            r2 = r2_score(y_test, y_pred)\n",
    "            mse_list.append(mse)\n",
    "            r2_list.append(r2)\n",
    "            plt.plot(i + 1, mse, 'bo', label='MSE' if i == 0 else \"\")\n",
    "            plt.plot(i + 1, r2, 'ro', label='R2' if i == 0 else \"\")\n",
    "        plt.xlabel('Training Round')\n",
    "        plt.ylabel('Score')\n",
    "        plt.title(f'Performance of {model_name} over Training Rounds')\n",
    "        plt.legend()\n",
    "        plt.savefig(os.path.join(figures_dir, f'{model_name}_performance.png'))\n",
    "        plt.show()\n",
    "\n",
    "    # Visualize performance for each model\n",
    "    for name, model in bagging_models.items():\n",
    "        plot_and_save_model_performance(model, X, y, name)"
   ]
  },
  {
   "cell_type": "markdown",
   "metadata": {},
   "source": [
    "## 4. A discussion of results"
   ]
  },
  {
   "cell_type": "markdown",
   "metadata": {},
   "source": [
    "In this script I evaluated the performance of 3 model architectures (Extra Trees Regressor, Random Forest Regressor, and Decision Tree Regressor) using bootstrapping and bagging techniques on normalized specific heat data. The Decision Tree Regressor exhibited higher variance and lower generalization and appeared to benefit from bagging to reduce overfitting. The Random Forest Regressor provided a intermediate performance in terms of variance and generalization, while the Extra Trees Regressor achieved the best accuracy and generalization by using random splits for each tree. \n",
    "\n",
    "Bagging and bootstrapping techniques improved model performance by training multiple base models on different data subsets, specifically by reducing overfitting.  "
   ]
  }
 ],
 "metadata": {
  "kernelspec": {
   "display_name": "eos_env",
   "language": "python",
   "name": "python3"
  },
  "language_info": {
   "codemirror_mode": {
    "name": "ipython",
    "version": 3
   },
   "file_extension": ".py",
   "mimetype": "text/x-python",
   "name": "python",
   "nbconvert_exporter": "python",
   "pygments_lexer": "ipython3",
   "version": "3.9.20"
  }
 },
 "nbformat": 4,
 "nbformat_minor": 2
}
